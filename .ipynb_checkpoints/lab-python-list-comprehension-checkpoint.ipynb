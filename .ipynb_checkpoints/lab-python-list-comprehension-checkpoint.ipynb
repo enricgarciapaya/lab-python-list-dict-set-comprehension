{
 "cells": [
  {
   "cell_type": "code",
   "execution_count": null,
   "id": "bc6cae2a",
   "metadata": {},
   "outputs": [],
   "source": [
    "# Lab | List, Dict and Set Comprehension"
   ]
  },
  {
   "cell_type": "markdown",
   "id": "7dd3cbde-675a-4b81-92c3-f728846dbe06",
   "metadata": {},
   "source": [
    "## Exercise: Managing Customer Orders Optimized with Comprehension"
   ]
  },
  {
   "cell_type": "markdown",
   "id": "5d500160-2fb7-4777-b5e4-09d45ebaf328",
   "metadata": {},
   "source": [
    "In the previous exercise, you developed a program to manage customer orders and inventory. Now, let's take it a step further and incorporate comprehension into your code.\n",
    "\n",
    "Follow the steps below to complete the exercise:\n",
    "\n",
    "1. Review your code from the previous exercise and identify areas where you can apply comprehension to simplify and streamline your code. \n",
    "\n",
    "    - *Hint: Apply it to initialize inventory, updating the inventory and printing the updated inventory.*\n",
    "    \n",
    "    - For example, in initializing the inventory, we could have:\n",
    "    \n",
    "        ```python\n",
    "        def initialize_inventory(products):\n",
    "            inventory = {product: int(input(f\"Enter the quantity of {product}s available: \")) for product in products}\n",
    "            return inventory\n",
    "\n",
    "        ```\n",
    "<br>\n",
    "    \n",
    "    \n",
    "2. Modify the function get_customer_orders so it prompts the user to enter the number of customer orders and gathers the product names using a loop and user input. Use comprehension.\n",
    "\n",
    "3. Add a new function to calculate the total price of the customer order. For each product in customer_orders, prompt the user to enter the price of that product. Use comprehension to calculate the total price. Note: assume that the user can only have 1 unit of each product.\n",
    "\n",
    "4. Modify the update_inventory function to remove the product from the inventory if its quantity becomes zero after fulfilling the customer orders. Use comprehension to filter out the products with a quantity of zero from the inventory.\n",
    "\n",
    "5. Print the total price of the customer order.\n",
    "\n",
    "Your code should produce output similar to the following:\n",
    "\n",
    "```python\n",
    "Enter the quantity of t-shirts available:  5\n",
    "Enter the quantity of mugs available:  4\n",
    "Enter the quantity of hats available:  3\n",
    "Enter the quantity of books available:  2\n",
    "Enter the quantity of keychains available:  1\n",
    "Enter the number of customer orders:  2\n",
    "Enter the name of a product that a customer wants to order:  hat\n",
    "Enter the name of a product that a customer wants to order:  keychain\n",
    "\n",
    "Order Statistics:\n",
    "Total Products Ordered: 2\n",
    "Percentage of Unique Products Ordered: 40.0\n",
    "\n",
    "Updated Inventory:\n",
    "t-shirt: 5\n",
    "mug: 4\n",
    "hat: 2\n",
    "book: 2\n",
    "Enter the price of keychain:  5\n",
    "Enter the price of hat:  10\n",
    "Total Price: 15.0\n",
    "\n",
    "```\n"
   ]
  },
  {
   "cell_type": "code",
   "execution_count": 232,
   "id": "248aeb50",
   "metadata": {},
   "outputs": [],
   "source": [
    "# 1)Review your code from the previous exercise and identify areas where you can apply comprehension to simplify and streamline your code.\n",
    "\n",
    "#Hint: Apply it to initialize inventory, updating the inventory and printing the updated inventory.\n",
    "\n",
    "#For example, in initializing the inventory, we could have:\n",
    "products=[\"t-shirt\", \"mug\", \"hat\", \"book\", \"keychain\"]"
   ]
  },
  {
   "cell_type": "code",
   "execution_count": 233,
   "id": "0c9ed210",
   "metadata": {},
   "outputs": [],
   "source": [
    "def initialize_inventory(products):\n",
    "    inventory = {product: int(input(f\"Enter the quantity of {product}s available: \")) for product in products}\n",
    "    return inventory"
   ]
  },
  {
   "cell_type": "code",
   "execution_count": 234,
   "id": "7d3fa66e",
   "metadata": {},
   "outputs": [
    {
     "name": "stdout",
     "output_type": "stream",
     "text": [
      "Enter the quantity of t-shirts available: 3\n",
      "Enter the quantity of mugs available: 3\n",
      "Enter the quantity of hats available: 3\n",
      "Enter the quantity of books available: 3\n",
      "Enter the quantity of keychains available: 3\n"
     ]
    }
   ],
   "source": [
    "inventory=initialize_inventory(products)"
   ]
  },
  {
   "cell_type": "code",
   "execution_count": 228,
   "id": "0e2f3273",
   "metadata": {},
   "outputs": [],
   "source": [
    "# just to check updating_inventory\n",
    "def get_customer_orders():\n",
    "    customer_order1=[]\n",
    "    product_name=input(\"enter the name of a product \")\n",
    "    if product_name in products:\n",
    "        customer_order1.append(product_name)\n",
    "    else:\n",
    "        print(\"Invalid input. Please enter a product from the available products.\")\n",
    "\n",
    "    while True:\n",
    "        product_name_y_n=input(\" do you want to add another product? please insert (yes/no) \").lower() #c. Ask the user if they want to add another product (yes/no).\n",
    "        if product_name_y_n==\"yes\": \n",
    "            product_name=input(\"enter the name of a prod \")\n",
    "            if product_name in products:\n",
    "                customer_order1.append(product_name)\n",
    "            else:\n",
    "                print(\"Invalid input. Please enter 'yes' or 'no'.\")\n",
    "        elif product_name_y_n==\"no\":\n",
    "            break\n",
    "        else:\n",
    "            print(\"Invalid input. Please enter 'yes' or 'no'.\") \n",
    "    customer_order=set(customer_order1)\n",
    "    return customer_order"
   ]
  },
  {
   "cell_type": "code",
   "execution_count": 229,
   "id": "f1f36834",
   "metadata": {},
   "outputs": [
    {
     "name": "stdout",
     "output_type": "stream",
     "text": [
      "enter the name of a product hat\n",
      " do you want to add another product? please insert (yes/no) book\n",
      "Invalid input. Please enter 'yes' or 'no'.\n",
      " do you want to add another product? please insert (yes/no) yes\n",
      "enter the name of a prod book\n",
      " do you want to add another product? please insert (yes/no) no\n"
     ]
    }
   ],
   "source": [
    "customer_orders=get_customer_orders()"
   ]
  },
  {
   "cell_type": "code",
   "execution_count": 69,
   "id": "6e6a6aec",
   "metadata": {},
   "outputs": [],
   "source": [
    "def updating_inventory(customer_orders,inventory):\n",
    "    inventory={product_key:  (inventory[product_key]-int(input(f\"please enter quantity of product you want to order {product_key}: \")))if product_key in customer_orders else inventory[product_key]for product_key in inventory }\n",
    "    return inventory"
   ]
  },
  {
   "cell_type": "code",
   "execution_count": 70,
   "id": "32f6c84f",
   "metadata": {},
   "outputs": [
    {
     "name": "stdout",
     "output_type": "stream",
     "text": [
      "please enter quantity of product you want to order hat: 1\n",
      "please enter quantity of product you want to order book: 1\n"
     ]
    }
   ],
   "source": [
    "updated_inventory=updating_inventory(customer_orders,inventory)"
   ]
  },
  {
   "cell_type": "code",
   "execution_count": 71,
   "id": "27ea4c26",
   "metadata": {},
   "outputs": [],
   "source": [
    "def print_updated_inventory(updated_inventory):\n",
    "    print(\"\\n\".join([f\"{product}: {quantity}\" for product, quantity in updated_inventory.items()]))"
   ]
  },
  {
   "cell_type": "code",
   "execution_count": 72,
   "id": "192a4634",
   "metadata": {},
   "outputs": [
    {
     "name": "stdout",
     "output_type": "stream",
     "text": [
      "{'t-shirt': 5, 'mug': 5, 'hat': 4, 'book': 4, 'keychain': 5}\n"
     ]
    }
   ],
   "source": [
    "print_updated_inventory(updated_inventory)"
   ]
  },
  {
   "cell_type": "code",
   "execution_count": null,
   "id": "75cf31dc",
   "metadata": {},
   "outputs": [],
   "source": [
    "2# Modify the function get_customer_orders -> prompts  enter the \"number of customer orders\"\n",
    "# and gathers the product names using a loop and user input. Use comprehension."
   ]
  },
  {
   "cell_type": "code",
   "execution_count": 142,
   "id": "366e7b58",
   "metadata": {},
   "outputs": [],
   "source": [
    "#2.1 FUnctiom in the regular way\n",
    "\n",
    "products=[\"t-shirt\", \"mug\", \"hat\", \"book\", \"keychain\"]\n",
    "\n",
    "def get_customer_orders():\n",
    "    customer_order1=[]\n",
    "    while True:\n",
    "        i=int(input(\"please enter number of products you want to order ,\"))\n",
    "        if i<=len(products):\n",
    "            for n in range(i):\n",
    "                product_name=input(\"enter the name of a product \")\n",
    "                if product_name in products:\n",
    "                    customer_order1.append(product_name)\n",
    "                    i=i-1\n",
    "                else:\n",
    "                    print(\"please enter a product that is in our inventory\")\n",
    "            break\n",
    "        \n",
    "        else:\n",
    "            print(\"invalid\" )\n",
    "    \n",
    "    customer_order=set(customer_order1)\n",
    "    return customer_order\n",
    "    "
   ]
  },
  {
   "cell_type": "code",
   "execution_count": 143,
   "id": "22931560",
   "metadata": {},
   "outputs": [
    {
     "name": "stdout",
     "output_type": "stream",
     "text": [
      "please enter number of products you want to order ,2\n",
      "enter the name of a product hat\n",
      "enter the name of a product book\n",
      "{'book', 'hat'}\n"
     ]
    }
   ],
   "source": [
    "customer_orders=get_customer_orders()\n",
    "print(customer_orders)"
   ]
  },
  {
   "cell_type": "code",
   "execution_count": 144,
   "id": "23e82e68",
   "metadata": {},
   "outputs": [],
   "source": [
    "###HELP###\n",
    "#########cannot understand why is not working, cannot keep the i=i-1 conditin in the comprehension#####\n",
    "products=[\"t-shirt\", \"mug\", \"hat\", \"book\", \"keychain\"]\n",
    "def get_customer_orders():\n",
    "    while True:\n",
    "        i = int(input(\"Please enter the number of products you want to order: \"))\n",
    "        if i <= len(products):\n",
    "            customer_order1 = [input(\"Enter the name of a product: \") for n in range(i) if input(\"Enter the name of a product: \") in products]\n",
    "            i = i - 1  # Decrease i outside the list comprehension\n",
    "            break\n",
    "        else:\n",
    "            print(\"Invalid input. You cannot order more product types than available in the inventory.\")\n",
    "\n",
    "    customer_order = set(customer_order1)\n",
    "    return customer_order"
   ]
  },
  {
   "cell_type": "code",
   "execution_count": 152,
   "id": "13fa6d5a",
   "metadata": {},
   "outputs": [],
   "source": [
    "###HELP###\n",
    "####### Second option but it does not work as well##################################3\n",
    "def get_customer_orders():\n",
    "    while True:\n",
    "        i = int(input(\"Please enter the number of products you want to order: \"))\n",
    "        if i <= len(products):\n",
    "            customer_order1 = [\n",
    "                (product_name := input(\"Enter the name of a product: \")) \n",
    "                for _ in range(i) \n",
    "                if (product_name in products) and (i := i - 1) >= 0\n",
    "            ]\n",
    "            break\n",
    "        else:\n",
    "            print(f\"Invalid input. You cannot order more product types than available in the inventory ({len(products)}).\")\n",
    "\n",
    "    customer_order = set(customer_order1)\n",
    "    return customer_order"
   ]
  },
  {
   "cell_type": "code",
   "execution_count": 235,
   "id": "8598f0f3",
   "metadata": {},
   "outputs": [],
   "source": [
    "########################### FINAL option but using CHAT_GPTt############# \n",
    "# this does the job, but i dont like,  could you explain why i cannot use i=i-1 aproach ?\n",
    "\n",
    "def get_customer_orders():\n",
    "    while True:\n",
    "        i = int(input(\"Please enter the number of products you want to order: \"))\n",
    "        if i <= len(products):\n",
    "            customer_order1 = [input(\"Enter the name of a product: \") for _ in range(i) ]\n",
    "            customer_order1 = [product_name for product_name in customer_order1 if product_name in products]\n",
    "            \n",
    "            if len(customer_order1) == i:\n",
    "                break\n",
    "            else:\n",
    "                print(\"Please enter valid products that are in our inventory.\")\n",
    "        else:\n",
    "            print(f\"Invalid input. You cannot order more product types than available in the inventory ({len(products)}).\")\n",
    "\n",
    "    customer_order = set(customer_order1)\n",
    "    return customer_order"
   ]
  },
  {
   "cell_type": "code",
   "execution_count": 236,
   "id": "ecab097f",
   "metadata": {},
   "outputs": [
    {
     "name": "stdout",
     "output_type": "stream",
     "text": [
      "Please enter the number of products you want to order: 3\n",
      "Enter the name of a product: beef\n",
      "Enter the name of a product: gac\n",
      "Enter the name of a product: hhh\n",
      "Please enter valid products that are in our inventory.\n",
      "Please enter the number of products you want to order: 2\n",
      "Enter the name of a product: book\n",
      "Enter the name of a product: hat\n",
      "{'book', 'hat'}\n"
     ]
    }
   ],
   "source": [
    "customer_orders=get_customer_orders()\n",
    "print(customer_orders)"
   ]
  },
  {
   "cell_type": "code",
   "execution_count": 237,
   "id": "77d390b2",
   "metadata": {},
   "outputs": [],
   "source": [
    "#3 Add a new function to calculate the total price of the customer order. \n",
    "#For each product in customer_orders, prompt the user to enter the price of that product.\n",
    "#Use comprehension to calculate the total price. Note: assume that the user can only have 1 unit of each product.\n",
    "def total_price(customer_orders):\n",
    "    \n",
    "    product_price={product: int(input(f\"Please enter a price of {product} \")) for product in customer_orders}\n",
    "    return sum(product_price.values())\n"
   ]
  },
  {
   "cell_type": "code",
   "execution_count": 238,
   "id": "f909a372",
   "metadata": {},
   "outputs": [
    {
     "name": "stdout",
     "output_type": "stream",
     "text": [
      "Please enter a price of book 5\n",
      "Please enter a price of hat 10\n"
     ]
    }
   ],
   "source": [
    "sum_price=total_price(customer_orders)"
   ]
  },
  {
   "cell_type": "code",
   "execution_count": 162,
   "id": "3e118cd9",
   "metadata": {},
   "outputs": [
    {
     "name": "stdout",
     "output_type": "stream",
     "text": [
      "18\n"
     ]
    }
   ],
   "source": [
    "print(sum_price)"
   ]
  },
  {
   "cell_type": "code",
   "execution_count": null,
   "id": "54c609f0",
   "metadata": {},
   "outputs": [],
   "source": [
    "#4 Modify the update_inventory function to remove the product from the inventory if its quantity becomes zero\n",
    "#after fulfilling the customer orders. \n",
    "#Use comprehension to filter out the products with a quantity of zero from the inventory."
   ]
  },
  {
   "cell_type": "code",
   "execution_count": 239,
   "id": "6fbec31e",
   "metadata": {},
   "outputs": [],
   "source": [
    "\n",
    "def updating_inventory(customer_orders, inventory):\n",
    "    updated_inventory = {product_key: (quantity - int(input(f\"Please enter the quantity of product you want to order for {product_key}: \"))) if product_key in customer_orders else quantity for product_key, quantity in inventory.items()}\n",
    "    updated_inventory = {product_key: quantity for product_key, quantity in updated_inventory.items() if quantity > 0}\n",
    "\n",
    "    return updated_inventory\n"
   ]
  },
  {
   "cell_type": "code",
   "execution_count": 240,
   "id": "29be193d",
   "metadata": {},
   "outputs": [
    {
     "name": "stdout",
     "output_type": "stream",
     "text": [
      "Please enter the quantity of product you want to order for hat: 5\n",
      "Please enter the quantity of product you want to order for book: 5\n",
      "{'t-shirt': 3, 'mug': 3, 'keychain': 3}\n"
     ]
    }
   ],
   "source": [
    "updated_inventory = updating_inventory(customer_orders, inventory)\n",
    "print( updated_inventory)"
   ]
  },
  {
   "cell_type": "code",
   "execution_count": 242,
   "id": "770a8d28",
   "metadata": {},
   "outputs": [
    {
     "name": "stdout",
     "output_type": "stream",
     "text": [
      "Enter the quantity of t-shirts available: 5\n",
      "Enter the quantity of mugs available: 4\n",
      "Enter the quantity of hats available: 3\n",
      "Enter the quantity of books available: 2\n",
      "Enter the quantity of keychains available: 1\n",
      "Please enter the number of products you want to order: 2\n",
      "Enter the name of a product: book\n",
      "Enter the name of a product: hat\n",
      "{'book', 'hat'}\n",
      "Please enter the quantity of product you want to order for hat: 3\n",
      "Please enter the quantity of product you want to order for book: 3\n",
      "t-shirt: 5\n",
      "mug: 4\n",
      "keychain: 1\n",
      "Please enter a price of book 5\n",
      "Please enter a price of hat 7\n",
      "total price equal to  12\n"
     ]
    }
   ],
   "source": [
    "def initialize_inventory(products):\n",
    "    inventory = {product: int(input(f\"Enter the quantity of {product}s available: \")) for product in products}\n",
    "    return inventory\n",
    "inventory=initialize_inventory(products)\n",
    "\n",
    "def get_customer_orders():\n",
    "    while True:\n",
    "        i = int(input(\"Please enter the number of products you want to order: \"))\n",
    "        if i <= len(products):\n",
    "            customer_order1 = [input(\"Enter the name of a product: \") for _ in range(i) ]\n",
    "            customer_order1 = [product_name for product_name in customer_order1 if product_name in products]\n",
    "            \n",
    "            if len(customer_order1) == i:\n",
    "                break\n",
    "            else:\n",
    "                print(\"Please enter valid products that are in our inventory.\")\n",
    "        else:\n",
    "            print(f\"Invalid input. You cannot order more product types than available in the inventory ({len(products)}).\")\n",
    "\n",
    "    customer_order = set(customer_order1)\n",
    "    return customer_order\n",
    "customer_orders=get_customer_orders()\n",
    "print(customer_orders)\n",
    "\n",
    "def calculate_order_statistics(customer_orders,products):\n",
    "    total_number_products_ordered=len(customer_orders)\n",
    "    Percentage_of_Products_Ordered= format(len(customer_orders)/len(products), '%')\n",
    "    order_status=(total_number_products_ordered,Percentage_of_Products_Ordered)\n",
    "    return order_status\n",
    "order_statistics=calculate_order_statistics(customer_orders,products)\n",
    "def updating_inventory(customer_orders, inventory):\n",
    "    updated_inventory = {product_key: (quantity - int(input(f\"Please enter the quantity of product you want to order for {product_key}: \"))) if product_key in customer_orders else quantity for product_key, quantity in inventory.items()}\n",
    "    updated_inventory = {product_key: quantity for product_key, quantity in updated_inventory.items() if quantity > 0}\n",
    "\n",
    "    return updated_inventory\n",
    "\n",
    "updated_inventory = updating_inventory(customer_orders, inventory)\n",
    "def print_updated_inventory(updated_inventory):\n",
    "    print(\"\\n\".join([f\"{product}: {quantity}\" for product, quantity in updated_inventory.items()]))\n",
    "print_updated_inventory(updated_inventory)    \n",
    "def total_price(customer_orders):\n",
    "    \n",
    "    product_price={product: int(input(f\"Please enter a price of {product} \")) for product in customer_orders}\n",
    "    return sum(product_price.values())\n",
    "sum_price=total_price(customer_orders)\n",
    "print(\"total price equal to \",sum_price)"
   ]
  },
  {
   "cell_type": "code",
   "execution_count": null,
   "id": "f199624f",
   "metadata": {},
   "outputs": [],
   "source": []
  }
 ],
 "metadata": {
  "kernelspec": {
   "display_name": "Python 3 (ipykernel)",
   "language": "python",
   "name": "python3"
  },
  "language_info": {
   "codemirror_mode": {
    "name": "ipython",
    "version": 3
   },
   "file_extension": ".py",
   "mimetype": "text/x-python",
   "name": "python",
   "nbconvert_exporter": "python",
   "pygments_lexer": "ipython3",
   "version": "3.11.5"
  }
 },
 "nbformat": 4,
 "nbformat_minor": 5
}
